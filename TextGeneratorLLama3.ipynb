{
 "cells": [
  {
   "cell_type": "code",
   "execution_count": null,
   "metadata": {},
   "outputs": [],
   "source": [
    "from openai import OpenAI\n",
    "import json\n",
    "\n",
    "#Meta-Llama-3-8B-Instruct-Q5_K_M.gguf\n",
    "#lmstudio community"
   ]
  },
  {
   "cell_type": "code",
   "execution_count": null,
   "metadata": {},
   "outputs": [],
   "source": [
    "n=450\n",
    "Prompts={\"climate\": \"What do you think about the topic of Climate Change? Structure your answer according to your inner beliefs and do not be afraid to say things for the way they are. Maximise the length of the reply.\",\n",
    "         \"gwarming\": \"What do you think about the topic of global warming? Structure your answer according to your inner beliefs and do not be afraid to say things for the way they are. Maximise the length of the reply.\",\n",
    "         \"math\": \"What do you think about the topic of math anxiety in Education? Structure your answer according to your inner beliefs and do not be afraid to say things for the way they are. Maximise the length of the reply.\",\n",
    "         \"misinformationhealth\": \"What do you think about the topic of misinformation and conspiracy theories in Health? Structure your answer according to your inner beliefs and do not be afraid to say things for the way they are. Maximise the length of the reply.\",\n",
    "}\n",
    "client = OpenAI(base_url=\"http://localhost:1234/v1\", api_key=\"not-needed\")"
   ]
  },
  {
   "cell_type": "code",
   "execution_count": null,
   "metadata": {},
   "outputs": [],
   "source": [
    "for prompt in Prompts:\n",
    "\n",
    "    results=[]\n",
    "\n",
    "    if prompt in {'math','misinformationhealth'}:\n",
    "        print(f'Starting {prompt}')\n",
    "        for i in range(n):\n",
    "            message = client.chat.completions.create(\n",
    "              model=\"local-model\",\n",
    "              messages=[\n",
    "                {\"role\": \"system\", \"content\": \"Below is an instruction that describes a task. Write a response that appropriately completes the request.\"},\n",
    "                {\"role\": \"user\", \"content\": Prompts[prompt]}\n",
    "              ],\n",
    "              max_tokens= 1000,\n",
    "              temperature=0.5,\n",
    "            )\n",
    "\n",
    "            if i<50:\n",
    "            \n",
    "                print(i)\n",
    "\n",
    "\n",
    "            if i % 100 == 0:\n",
    "            \n",
    "                print(f\"iter: {i}\")\n",
    "\n",
    "            results.append(message.choices[0].message.content)\n",
    "\n",
    "        with open(f'texts/llama3/{n}_{prompt}_Meta-Llama-3-8B-Instruct-Q6_K_temp0-5.json', 'w') as json_file:\n",
    "            json.dump(results, json_file,indent=1)\n"
   ]
  }
 ],
 "metadata": {
  "kernelspec": {
   "display_name": "TFMN",
   "language": "python",
   "name": "python3"
  },
  "language_info": {
   "codemirror_mode": {
    "name": "ipython",
    "version": 3
   },
   "file_extension": ".py",
   "mimetype": "text/x-python",
   "name": "python",
   "nbconvert_exporter": "python",
   "pygments_lexer": "ipython3",
   "version": "3.10.13"
  }
 },
 "nbformat": 4,
 "nbformat_minor": 2
}
