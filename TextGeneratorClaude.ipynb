{
 "cells": [
  {
   "cell_type": "code",
   "execution_count": null,
   "metadata": {},
   "outputs": [],
   "source": [
    "import anthropic\n",
    "import json\n",
    "import time\n",
    "\n",
    "client = anthropic.Anthropic(\n",
    "    # defaults to os.environ.get(\"ANTHROPIC_API_KEY\")\n",
    "    api_key=\"\",\n",
    ")\n"
   ]
  },
  {
   "cell_type": "code",
   "execution_count": null,
   "metadata": {},
   "outputs": [],
   "source": [
    "Prompts={\"climate\": \"What do you think about the topic of Climate Change? Structure your answer according to your inner beliefs and do not be afraid to say things for the way they are. Maximise the length of the reply.\",\n",
    "         \"gwarming\": \"What do you think about the topic of global warming? Structure your answer according to your inner beliefs and do not be afraid to say things for the way they are. Maximise the length of the reply.\",\n",
    "         \"cambiamento\": \"Cosa ne pensi del cambiamento climatico? Struttura la risposta in base alle tue convinzioni e non aver paura di dire le cose come stanno. Massimizza la lunghezza della risposta.\",\n",
    "         \"riscaldamento\": \"Cosa ne pensi del riscaldamento globale? Struttura la risposta in base alle tue convinzioni e non aver paura di dire le cose come stanno. Massimizza la lunghezza della risposta.\",\n",
    "         \"math\": \"What do you think about the topic of math anxiety in Education? Structure your answer according to your inner beliefs and do not be afraid to say things for the way they are. Maximise the length of the reply.\",\n",
    "         \"matematica\": \"Cosa ne pensi dell'ansia da matematica nell'istruzione? Struttura la risposta in base alle tue convinzioni e non aver paura di dire le cose come stanno. Massimizza la lunghezza della risposta.\",\n",
    "         \"misinformationhealth\": \"What do you think about the topic of misinformation and conspiracy theories in Health? Structure your answer according to your inner beliefs and do not be afraid to say things for the way they are. Maximise the length of the reply.\",\n",
    "         \"bufalesalute\": \"Cosa ne pensi delle bufale e delle teorie del complotto riguardo la Salute? Struttura la risposta in base alle tue convinzioni e non aver paura di dire le cose come stanno. Massimizza la lunghezza della risposta.\"        \n",
    "}"
   ]
  },
  {
   "cell_type": "code",
   "execution_count": null,
   "metadata": {},
   "outputs": [],
   "source": [
    "n=151\n",
    "\n",
    "for prompt in Prompts:\n",
    "\n",
    "    if prompt in ('riscaldamento'):        \n",
    "\n",
    "        results=[]\n",
    "\n",
    "        print(f'Starting {prompt}')\n",
    "        for i in range(n):\n",
    "            time.sleep(1)\n",
    "            message = client.messages.create(\n",
    "                model=\"claude-3-haiku-20240307\",\n",
    "                max_tokens=1000,\n",
    "                temperature=0.5,\n",
    "                system=\"\",\n",
    "                messages=[\n",
    "                    {\"role\": \"user\", \"content\": Prompts[prompt]}\n",
    "                ]\n",
    "            )\n",
    "\n",
    "            results.append(message.content[0].text)\n",
    "\n",
    "        with open(f'texts/{n}_{prompt}_claude_haiku20240307_temp0-5.json', 'w') as json_file:\n",
    "            json.dump(results, json_file,indent=1)\n"
   ]
  },
  {
   "cell_type": "code",
   "execution_count": null,
   "metadata": {},
   "outputs": [],
   "source": [
    "results\n",
    "\n",
    "len(results)"
   ]
  },
  {
   "cell_type": "code",
   "execution_count": null,
   "metadata": {},
   "outputs": [],
   "source": [
    "#with open(f'texts/46_{prompt}_claude_haiku20240307_temp0-5.json', 'w') as json_file:\n",
    "#    json.dump(results, json_file,indent=1)"
   ]
  },
  {
   "cell_type": "code",
   "execution_count": null,
   "metadata": {},
   "outputs": [],
   "source": [
    "results"
   ]
  }
 ],
 "metadata": {
  "kernelspec": {
   "display_name": "emoatlas_ennemesino",
   "language": "python",
   "name": "python3"
  },
  "language_info": {
   "codemirror_mode": {
    "name": "ipython",
    "version": 3
   },
   "file_extension": ".py",
   "mimetype": "text/x-python",
   "name": "python",
   "nbconvert_exporter": "python",
   "pygments_lexer": "ipython3",
   "version": "3.11.7"
  }
 },
 "nbformat": 4,
 "nbformat_minor": 2
}
