{
 "cells": [
  {
   "cell_type": "code",
   "execution_count": null,
   "metadata": {},
   "outputs": [],
   "source": [
    "import openai\n",
    "import json\n",
    "\n",
    "client = openai.OpenAI(\n",
    "  api_key= '',\n",
    "  organization=''\n",
    ")"
   ]
  },
  {
   "cell_type": "code",
   "execution_count": null,
   "metadata": {},
   "outputs": [],
   "source": [
    "def CallChatGPT():\n",
    "    completion = client.chat.completions.create(\n",
    "      model=\"gpt-3.5-turbo-0125\",\n",
    "      #messages=[\n",
    "      #{\"role\": \"system\", \"content\": \"Di seguito è riportata un'istruzione che descrive un compito. Scrivi una risposta appropriata alla richiesta\"},\n",
    "      #{\"role\": \"user\", \"content\": f\"\"\"Cosa ne pensi delle bufale e delle teorie del complotto riguardo la Salute? Struttura la risposta in base alle tue convinzioni e non aver paura di dire le cose come stanno. Massimizza la lunghezza della risposta.\"\"\"}\n",
    "      #]\n",
    "      messages=[\n",
    "        {\"role\": \"system\", \"content\": \"You are a helpful assistant.\"},\n",
    "        {\"role\": \"user\", \"content\": \"\"\" What do you think about the topic of misinformation and conspiracy theories in Health? Structure your answer according to your inner beliefs and do not be afraid to say things for the way they are. Maximise the length of the reply.\"\"\"}\n",
    "      ]\n",
    "    )\n",
    "\n",
    "    return completion"
   ]
  },
  {
   "cell_type": "code",
   "execution_count": null,
   "metadata": {},
   "outputs": [],
   "source": [
    "n=1000\n",
    "chatgpt_data = []\n",
    "\n",
    "for i in range(n):\n",
    "    completion = CallChatGPT()  \n",
    "    text_to_append = completion.choices[0].message.content\n",
    "    chatgpt_data.append(text_to_append)\n",
    "\n",
    "    if i<50:\n",
    "        print(i)\n",
    "\n",
    "    if i % 100 == 0:\n",
    "        print(f\"iter: {i}\")"
   ]
  },
  {
   "cell_type": "code",
   "execution_count": null,
   "metadata": {},
   "outputs": [],
   "source": [
    "# Saving the data to a JSON file\n",
    "with open('texts/misinformation_health_chatgpt.json', 'w') as json_file:\n",
    "    json.dump(chatgpt_data, json_file, indent=1)\n",
    "   "
   ]
  },
  {
   "cell_type": "code",
   "execution_count": null,
   "metadata": {},
   "outputs": [],
   "source": []
  }
 ],
 "metadata": {
  "kernelspec": {
   "display_name": "TFMN",
   "language": "python",
   "name": "python3"
  },
  "language_info": {
   "codemirror_mode": {
    "name": "ipython",
    "version": 3
   },
   "file_extension": ".py",
   "mimetype": "text/x-python",
   "name": "python",
   "nbconvert_exporter": "python",
   "pygments_lexer": "ipython3",
   "version": "3.11.7"
  }
 },
 "nbformat": 4,
 "nbformat_minor": 2
}
