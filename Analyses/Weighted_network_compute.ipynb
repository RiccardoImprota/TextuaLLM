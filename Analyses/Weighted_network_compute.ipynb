{
 "cells": [
  {
   "cell_type": "code",
   "execution_count": null,
   "metadata": {},
   "outputs": [],
   "source": [
    "from emoatlas import EmoScores\n",
    "import os\n",
    "import json\n",
    "import re\n",
    "from pprint import pprint\n",
    "\n",
    "emos=EmoScores()"
   ]
  },
  {
   "cell_type": "code",
   "execution_count": null,
   "metadata": {},
   "outputs": [],
   "source": [
    "base_output_dir = \"localdb\"\n",
    "valence_dir = \"w_fmnt\"\n",
    "\n",
    "# Folders of interest\n",
    "folders_of_interest = ['climate', 'math', 'misinformation_health','gwarming']"
   ]
  },
  {
   "cell_type": "code",
   "execution_count": null,
   "metadata": {},
   "outputs": [],
   "source": [
    "for folder in folders_of_interest:\n",
    "    input_folder_path = os.path.join(base_output_dir, folder)\n",
    "    valence_output_path = os.path.join(valence_dir, folder)\n",
    "\n",
    "    for filename in os.listdir(input_folder_path):\n",
    "        print(filename.rstrip('.jsonl'))\n",
    "        file_path = os.path.join(input_folder_path, filename)\n",
    "        with open(file_path, 'r') as file:\n",
    "            fmnts=[]\n",
    "            for line in file:\n",
    "                data = json.loads(line)\n",
    "                fmnts.append(data['fmnt']['syntactic'])\n",
    "        \n",
    "        weighted_fmnt = emos.combine_edgelists(fmnts)\n",
    "\n",
    "        \n",
    "        \n",
    "        output_file_path = os.path.join(valence_output_path, f\"{filename.rstrip('.jsonl')}_wfmnt.json\")\n",
    "        with open(output_file_path, 'a') as out_file:\n",
    "            json.dump(weighted_fmnt, out_file)\n"
   ]
  }
 ],
 "metadata": {
  "kernelspec": {
   "display_name": "emoatlas_ennemesino",
   "language": "python",
   "name": "python3"
  },
  "language_info": {
   "codemirror_mode": {
    "name": "ipython",
    "version": 3
   },
   "file_extension": ".py",
   "mimetype": "text/x-python",
   "name": "python",
   "nbconvert_exporter": "python",
   "pygments_lexer": "ipython3",
   "version": "3.11.7"
  }
 },
 "nbformat": 4,
 "nbformat_minor": 2
}
