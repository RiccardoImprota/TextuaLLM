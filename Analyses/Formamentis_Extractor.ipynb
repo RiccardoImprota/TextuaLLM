{
 "cells": [
  {
   "cell_type": "code",
   "execution_count": null,
   "metadata": {},
   "outputs": [],
   "source": [
    "from emoatlas import EmoScores\n",
    "import os\n",
    "import json\n",
    "\n",
    "emos = EmoScores()\n",
    "emos._tagger.max_length = 4000000"
   ]
  },
  {
   "cell_type": "code",
   "execution_count": null,
   "metadata": {},
   "outputs": [],
   "source": [
    "\n",
    "# Define the base directory containing the folders of interest\n",
    "base_dir = 'texts'\n",
    "\n",
    "# Folders of interest\n",
    "folders_of_interest = ['climate', 'math', 'misinformation_health']\n"
   ]
  },
  {
   "cell_type": "code",
   "execution_count": null,
   "metadata": {},
   "outputs": [],
   "source": [
    "def process_json_files(folder_path,folder):\n",
    "    # List all files in the directory\n",
    "    for filename in os.listdir(folder_path):\n",
    "        # Reads each json\n",
    "        file_path = os.path.join(folder_path, filename)\n",
    "        with open(file_path, 'r') as file:\n",
    "            data = json.load(file)\n",
    "            data= ''.join(data)\n",
    "        \n",
    "        filename=filename[:-5]+'.txt'\n",
    "\n",
    "        export_path = os.path.join('fmnts', folder, filename)\n",
    "        \n",
    "        if not os.path.exists(export_path):\n",
    "            print(file_path)\n",
    "            fmnt = emos.formamentis_network(data,semantic_enrichment='synonyms')\n",
    "            emos.export_formamentis(fmnt, path=os.path.join('fmnts', folder), filename=filename)\n",
    "        else:\n",
    "            print(f\"The file {filename} already exists in the export folder.\")\n",
    "\n"
   ]
  },
  {
   "cell_type": "code",
   "execution_count": null,
   "metadata": {},
   "outputs": [],
   "source": [
    "# Process each folder\n",
    "for folder in folders_of_interest:\n",
    "    folder_path = os.path.join(base_dir, folder)\n",
    "    fmnt= process_json_files(folder_path,folder)\n",
    "    "
   ]
  }
 ],
 "metadata": {
  "kernelspec": {
   "display_name": "emoatlas_ennemesino",
   "language": "python",
   "name": "python3"
  },
  "language_info": {
   "codemirror_mode": {
    "name": "ipython",
    "version": 3
   },
   "file_extension": ".py",
   "mimetype": "text/x-python",
   "name": "python",
   "nbconvert_exporter": "python",
   "pygments_lexer": "ipython3",
   "version": "3.11.7"
  }
 },
 "nbformat": 4,
 "nbformat_minor": 2
}
