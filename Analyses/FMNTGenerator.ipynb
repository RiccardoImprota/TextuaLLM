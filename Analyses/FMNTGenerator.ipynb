{
 "cells": [
  {
   "cell_type": "code",
   "execution_count": null,
   "metadata": {},
   "outputs": [],
   "source": [
    "import matplotlib\n",
    "from emoatlas import EmoScores\n",
    "import json"
   ]
  },
  {
   "cell_type": "code",
   "execution_count": null,
   "metadata": {},
   "outputs": [],
   "source": [
    "emosmistral = EmoScores()\n",
    "\n",
    "# Opening the JSON file\n",
    "with open('texts/completemistral.json', 'r') as json_file:\n",
    "    mistral_data = json.load(json_file)\n",
    "\n",
    "# Joining all strings into a single string\n",
    "mistral_strings = ''.join(mistral_data)"
   ]
  },
  {
   "cell_type": "code",
   "execution_count": null,
   "metadata": {},
   "outputs": [],
   "source": [
    "\n",
    "fmnt = emosmistral.formamentis_network(mistral_strings) \n",
    "emosmistral.draw_formamentis(fmnt,thickness=0.1)"
   ]
  },
  {
   "cell_type": "code",
   "execution_count": null,
   "metadata": {},
   "outputs": [],
   "source": [
    "zscoresmistral = emosmistral.zscores(mistral_strings)\n",
    "emosmistral.draw_plutchik(zscoresmistral, rescale = (-8, 8), title = 'Mistral - FMNT',reject_range=[-1.96,1.96])"
   ]
  },
  {
   "cell_type": "code",
   "execution_count": null,
   "metadata": {},
   "outputs": [],
   "source": [
    "emochatgpt = EmoScores()\n",
    "\n",
    "# Opening the JSON file\n",
    "with open('texts/completechatgpt.json', 'r') as json_file:\n",
    "    chatgpt_data = json.load(json_file)\n",
    "\n",
    "# Joining all strings into a single string\n",
    "chatgpt_string = ''.join(chatgpt_data)"
   ]
  },
  {
   "cell_type": "code",
   "execution_count": null,
   "metadata": {},
   "outputs": [],
   "source": [
    "fmnt2 = emochatgpt.formamentis_network(chatgpt_string) \n",
    "emochatgpt.draw_formamentis(fmnt,thickness=0.1)"
   ]
  },
  {
   "cell_type": "code",
   "execution_count": null,
   "metadata": {},
   "outputs": [],
   "source": [
    "zscoreschatgpt = emochatgpt.zscores(chatgpt_string)\n",
    "emochatgpt.draw_plutchik(zscoreschatgpt, rescale = (-8,8), title = 'Mistral - FMNT',reject_range=[-1.96,1.96])"
   ]
  },
  {
   "cell_type": "code",
   "execution_count": null,
   "metadata": {},
   "outputs": [],
   "source": [
    "bag_of_words_dog = \" \".join([pair[1] for pair in fmnt2.edges if pair[0].lower() == \"change\"])\n",
    "bag_of_words_dog2 = \" \".join([pair[0] for pair in fmnt2.edges if pair[1].lower() == \"change\"])\n",
    "\n",
    "bag_of_words_dog+=\" \"\n",
    "bag_of_words_dog+=bag_of_words_dog2\n",
    "\n",
    "print(bag_of_words_dog)"
   ]
  },
  {
   "cell_type": "code",
   "execution_count": null,
   "metadata": {},
   "outputs": [],
   "source": []
  }
 ],
 "metadata": {
  "kernelspec": {
   "display_name": "TFMN",
   "language": "python",
   "name": "python3"
  },
  "language_info": {
   "codemirror_mode": {
    "name": "ipython",
    "version": 3
   },
   "file_extension": ".py",
   "mimetype": "text/x-python",
   "name": "python",
   "nbconvert_exporter": "python",
   "pygments_lexer": "ipython3",
   "version": "3.11.7"
  }
 },
 "nbformat": 4,
 "nbformat_minor": 2
}
